{
 "cells": [
  {
   "cell_type": "code",
   "execution_count": null,
   "metadata": {},
   "outputs": [],
   "source": [
    "# First element in the vector x is always 1 (bias term)\n",
    "# Length of w and x must be n+1 where n is the number of neuron inputs\n",
    "def compute_output(w, x):\n",
    "    z = 0.0\n",
    "    for i in range(len(w)):\n",
    "        z += w[i] * x[i] # compute sum of weighted inputs\n",
    "    if z < 0: # Apply sign function\n",
    "        return -1\n",
    "    else:\n",
    "        return 1"
   ]
  }
 ],
 "metadata": {
  "language_info": {
   "name": "python"
  }
 },
 "nbformat": 4,
 "nbformat_minor": 2
}
